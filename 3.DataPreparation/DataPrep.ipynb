{
 "cells": [
  {
   "cell_type": "code",
   "execution_count": 9,
   "metadata": {},
   "outputs": [],
   "source": [
    "import pandas as pd\n",
    "import numpy as np\n",
    "import matplotlib.pyplot as plt\n",
    "from sklearn.model_selection import train_test_split\n",
    "from sklearn.preprocessing import OneHotEncoder"
   ]
  },
  {
   "cell_type": "code",
   "execution_count": 59,
   "metadata": {},
   "outputs": [],
   "source": [
    "student_data = pd.read_csv('../1.Data/student_data_filt.csv', index_col=False)\n",
    "data_mapping = pd.read_csv('../1.Data/data_type_mapping.csv', index_col=False)"
   ]
  },
  {
   "cell_type": "code",
   "execution_count": 60,
   "metadata": {},
   "outputs": [],
   "source": [
    "#Data needs to be split into training and testing sets\n",
    "\n",
    "#Split the data into features and target label\n",
    "target = student_data['Target']\n",
    "features = student_data.drop('Target', axis=1)\n",
    "\n",
    "#Split the data into training and testing sets\n",
    "X_train, X_test, y_train, y_test = train_test_split(features, target, test_size=0.25, random_state=42)\n"
   ]
  },
  {
   "cell_type": "markdown",
   "metadata": {},
   "source": [
    "#### Encode Categorical Variables"
   ]
  },
  {
   "cell_type": "code",
   "execution_count": 61,
   "metadata": {},
   "outputs": [],
   "source": [
    "#create a list of categorical columns\n",
    "categorical_columns = data_mapping[data_mapping['Data Type'] == 'Categorical']['Column'].values"
   ]
  },
  {
   "cell_type": "code",
   "execution_count": 62,
   "metadata": {},
   "outputs": [],
   "source": [
    "#Split the data into categorical and numerical features\n",
    "X_train_cat = X_train[categorical_columns]\n",
    "X_test_cat = X_test[categorical_columns]\n",
    "X_train_num = X_train.drop(categorical_columns, axis=1)\n",
    "X_test_num = X_test.drop(categorical_columns, axis=1)"
   ]
  },
  {
   "cell_type": "code",
   "execution_count": 63,
   "metadata": {},
   "outputs": [],
   "source": [
    "#One hot encode the categorical data\n",
    "#One hot encoding is used to convert categorical data, which is represented as strings, into numerical data\n",
    "#This is done because most machine learning algorithms cannot handle categorical data\n",
    "#One hot encoding creates a new column for each unique value in a categorical column\n",
    "\n",
    "#keep track of the index of the training and testing sets\n",
    "index_train = X_train_cat.index\n",
    "index_test = X_test_cat.index\n",
    "\n",
    "encoder = OneHotEncoder(sparse_output=False, handle_unknown='ignore')\n",
    "X_train_encoded = encoder.fit_transform(X_train_cat)\n",
    "X_test_encoded = encoder.transform(X_test_cat)"
   ]
  },
  {
   "cell_type": "code",
   "execution_count": 64,
   "metadata": {},
   "outputs": [
    {
     "name": "stdout",
     "output_type": "stream",
     "text": [
      "(2722, 66)\n",
      "(908, 66)\n"
     ]
    }
   ],
   "source": [
    "#Print the shape of the encoded data\n",
    "print(X_train_encoded.shape)\n",
    "print(X_test_encoded.shape)"
   ]
  },
  {
   "cell_type": "code",
   "execution_count": 65,
   "metadata": {},
   "outputs": [],
   "source": [
    "#Convert the encoded data into a dataframe\n",
    "X_train_encoded = pd.DataFrame(X_train_encoded, columns=encoder.get_feature_names_out())\n",
    "X_test_encoded = pd.DataFrame(X_test_encoded, columns=encoder.get_feature_names_out())\n",
    "X_train_encoded.index = index_train\n",
    "X_test_encoded.index = index_test"
   ]
  },
  {
   "cell_type": "code",
   "execution_count": 71,
   "metadata": {},
   "outputs": [],
   "source": [
    "#Concatenate the encoded data with the numerical data\n",
    "X_train = pd.concat([X_train_encoded, X_train_num], axis=1)\n",
    "X_test = pd.concat([X_test_encoded, X_test_num], axis=1)"
   ]
  },
  {
   "cell_type": "code",
   "execution_count": 73,
   "metadata": {},
   "outputs": [],
   "source": [
    "X_train.to_csv('../1.Data/TrainTest/X_train.csv', index=False)\n",
    "X_test.to_csv('../1.Data/TrainTest/X_test.csv', index=False)\n",
    "y_train.to_csv('../1.Data/TrainTest/y_train.csv', index=False)\n",
    "y_test.to_csv('../1.Data/TrainTest/y_test.csv', index=False)\n"
   ]
  },
  {
   "cell_type": "code",
   "execution_count": null,
   "metadata": {},
   "outputs": [],
   "source": []
  }
 ],
 "metadata": {
  "kernelspec": {
   "display_name": "StudentClassification",
   "language": "python",
   "name": "python3"
  },
  "language_info": {
   "codemirror_mode": {
    "name": "ipython",
    "version": 3
   },
   "file_extension": ".py",
   "mimetype": "text/x-python",
   "name": "python",
   "nbconvert_exporter": "python",
   "pygments_lexer": "ipython3",
   "version": "3.10.9"
  },
  "orig_nbformat": 4
 },
 "nbformat": 4,
 "nbformat_minor": 2
}
